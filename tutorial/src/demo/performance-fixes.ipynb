{
 "cells": [
  {
   "cell_type": "markdown",
   "id": "81efb6c9",
   "metadata": {},
   "source": [
    "# Performance Fixes"
   ]
  },
  {
   "cell_type": "markdown",
   "id": "d04519af",
   "metadata": {},
   "source": [
    "## 2025.4.21\n",
    "\n",
    "Found that the cluster priority implementation is not stable with different weights.\n",
    "The current implementation uses the following equation for calculating priority:\n",
    "\n",
    "$$\\mathcal{P}(C) = \\sum_{S \\in \\mathcal{B}_C} y_S - \\sum_{e \\in E_C} \\left( \\sum_{S \\in \\mathcal{B}_C | e \\in \\delta(S)} y_S \\right) - |\\mathcal{O}_B| - |E_C| $$\n",
    "\n",
    "We need to change a few things:\n",
    "1. change $ - |\\mathcal{O}_B| - |E_C|$ to $/ (|\\mathcal{O}_B| + |E_C|)^3$ because the cardinality doesn't have the same unit\n",
    "2. change $e \\in E_C$ to $e \\in \\mathcal{E}_C$, the local parity factor solution.\n",
    "3. change $\\sum_{S \\in \\mathcal{B}_C | e \\in \\delta(S)} y_S$ to $w_e$ because that's how the primal-dual gap defined. Although this is perhaps not very important since the parity factor only uses tight edges $\\mathcal{E}_C \\subseteq T$ and tight edges, by definition, has a dual sum equal to $w_e$.\n",
    "\n",
    "The new priority calculation is below:\n",
    "\n",
    "$$\\mathcal{P}(C) = \\left( \\sum_{S \\in \\mathcal{B}_C} y_S - \\sum_{e \\in \\mathcal{E}_C} w_e \\right) / \\left( |\\mathcal{O}_B| - |E_C| \\right)^3 $$\n",
    "\n",
    "The performance comparison data is below:\n",
    "\n",
    "```sh\n",
    "python3 -m qec_lego_bench generate-samples 'rsc(d=5,p=0.001)' './dist/rsc-d5-p001' --shots 500000 --decoder 'mwpf'\n",
    "```\n",
    "\n",
    "```sh\n",
    "for i in {1..3}\n",
    "do\n",
    "  echo \"Running command $i:\"\n",
    "  time python3 -m qec_lego_bench benchmark-samples ./dist/rsc-d5-p001 --decoder 'mwpf'\n",
    "done\n",
    "Running command 1:\n",
    "decoding time: 3.148e-04s, elapsed: 1.574e+02s, shots: 500000\n",
    "logical error rate: 44/500000 = 8.800e-05\n",
    "python3 -m qec_lego_bench benchmark-samples ./dist/rsc-d5-p001 --decoder   149.62s user 12.07s system 100% cpu 2:40.22 total\n",
    "Running command 2:\n",
    "decoding time: 3.169e-04s, elapsed: 1.584e+02s, shots: 500000\n",
    "logical error rate: 44/500000 = 8.800e-05\n",
    "python3 -m qec_lego_bench benchmark-samples ./dist/rsc-d5-p001 --decoder   148.95s user 12.47s system 100% cpu 2:40.37 total\n",
    "Running command 3:\n",
    "decoding time: 3.126e-04s, elapsed: 1.563e+02s, shots: 500000\n",
    "logical error rate: 44/500000 = 8.800e-05\n",
    "python3 -m qec_lego_bench benchmark-samples ./dist/rsc-d5-p001 --decoder   147.57s user 12.21s system 100% cpu 2:38.29 total\n",
    "```\n",
    "\n",
    "\n",
    "After the fix:\n",
    "\n",
    "```sh\n",
    "for i in {1..3}\n",
    "do\n",
    "  echo \"Running command $i:\"\n",
    "  time python3 -m qec_lego_bench benchmark-samples ./dist/rsc-d5-p001 --decoder 'mwpf'\n",
    "done\n",
    "Running command 1:\n",
    "decoding time: 2.837e-04s, elapsed: 1.419e+02s, shots: 500000\n",
    "logical error rate: 44/500000 = 8.800e-05\n",
    "python3 -m qec_lego_bench benchmark-samples ./dist/rsc-d5-p001 --decoder   136.56s user 10.41s system 101% cpu 2:25.01 total\n",
    "Running command 2:\n",
    "decoding time: 2.924e-04s, elapsed: 1.462e+02s, shots: 500000\n",
    "logical error rate: 43/500000 = 8.600e-05\n",
    "python3 -m qec_lego_bench benchmark-samples ./dist/rsc-d5-p001 --decoder   141.72s user 9.00s system 101% cpu 2:27.78 total\n",
    "Running command 3:\n",
    "decoding time: 2.803e-04s, elapsed: 1.401e+02s, shots: 500000\n",
    "logical error rate: 44/500000 = 8.800e-05\n",
    "python3 -m qec_lego_bench benchmark-samples ./dist/rsc-d5-p001 --decoder   134.74s user 9.87s system 102% cpu 2:21.74 total\n",
    "```"
   ]
  },
  {
   "cell_type": "markdown",
   "id": "33484172",
   "metadata": {},
   "source": []
  }
 ],
 "metadata": {
  "language_info": {
   "name": "python"
  }
 },
 "nbformat": 4,
 "nbformat_minor": 5
}
