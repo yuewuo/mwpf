{
 "cells": [
  {
   "cell_type": "markdown",
   "metadata": {},
   "source": [
    "# Understand the overhead caused by the new trait design"
   ]
  },
  {
   "cell_type": "markdown",
   "metadata": {},
   "source": [
    "```sh\n",
    "cargo flamegraph -o benchmark/matrix_speed/legacy.svg --root -- matrix-speed --one-density 0.01 -r 100000 --matrix-type legacy\n",
    "cargo flamegraph -o benchmark/matrix_speed/echelon-tail-tight.svg --root -- matrix-speed --one-density 0.01 -r 100000 --matrix-type echelon-tail-tight\n",
    "cargo flamegraph -o benchmark/matrix_speed/echelon-tight.svg --root -- matrix-speed --one-density 0.01 -r 100000 --matrix-type echelon-tight\n",
    "cargo flamegraph -o benchmark/matrix_speed/echelon.svg --root -- matrix-speed --one-density 0.01 -r 100000 --matrix-type echelon\n",
    "```"
   ]
  },
  {
   "cell_type": "markdown",
   "metadata": {},
   "source": [
    "It turns out that the `HashSet` is more expensive than the `BTreeSet` (see a lot more time consumption).\n",
    "Turning back to `BTreeSet` gives a very small overhead, like below 10% from the legacy to the new interface."
   ]
  }
 ],
 "metadata": {
  "language_info": {
   "name": "python"
  },
  "orig_nbformat": 4
 },
 "nbformat": 4,
 "nbformat_minor": 2
}
